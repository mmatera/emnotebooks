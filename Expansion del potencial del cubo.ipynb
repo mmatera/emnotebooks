{
 "cells": [
  {
   "cell_type": "markdown",
   "metadata": {
    "ExecuteTime": {
     "end_time": "2020-04-16T20:12:26.889681Z",
     "start_time": "2020-04-16T20:12:26.884753Z"
    }
   },
   "source": [
    "1.a\n",
    "\n",
    "Solución general para la ecuación de Laplace para un cubo con todas menos la cara $z=a$:\n",
    "\n",
    "$$\n",
    "\\Phi(x,y,z)=\\sum_{n_x,n_y} A_{n_x,n_y} \\sin(\\pi n_x/a x )\\sin(\\pi n_y/a y )\\frac{\\sinh(\\pi \\sqrt{n_x^2+n_y^2}/a z )}\n",
    "{\\sinh(\\pi \\sqrt{n_x^2+n_y^2})}\n",
    "$$"
   ]
  },
  {
   "cell_type": "markdown",
   "metadata": {},
   "source": [
    "con\n",
    "$$\n",
    "\\iint  \\sin(\\pi n_x/a x )\\sin(\\pi n_y/a y )  f(x,y)dx dy= \\sum_{n'_x,n'_y} A_{n'_x,n'_y} \\iint\\sin(\\pi n'_x/a x )\\sin(\\pi n'_y/a y )  \\sin(\\pi n_x/a x )\\sin(\\pi n_y/a y ) dxdy\n",
    "$$\n",
    "\n",
    "$$\n",
    "\\iint  \\sin(\\pi n_x/a x )\\sin(\\pi n_y/a y )  f(x,y)dx dy=  A_{n_x,n_y} \\int\\sin^2(\\pi n_x/a x )dx \\int\\sin^2(\\pi n_y/a y )dy \n",
    "$$\n",
    "\n",
    "Para un potencial constante:\n",
    "$$\n",
    " A_{n_x,n_y}  =\\frac{4 \\times {\\rm V}}{a^2} \\iint  \\sin(\\pi n_x/a x )\\sin(\\pi n_y/a y ) dx dy\n",
    "$$\n",
    "\n",
    "luego,\n",
    "$$\n",
    " A_{n_x,n_y}  =\\frac{16}{\\pi^2 n_x n_y} \\frac{1-(-1)^{n_x}}{2}\\frac{1-(-1)^{n_y}}{2}\\times {\\rm V} \n",
    "$$\n",
    "De esta manera,\n",
    "\n",
    "\n",
    "$$\n",
    "\\Phi(x,y,z)=\\frac{16}{\\pi^2}\\sum_{n_x,n_y} \\frac{\\sin(\\pi (2 n_x+1)/a x )\\sin(\\pi (2 n_y+1)/a y )}{(2n_x+1)(2n_y+1)} \\frac{\\sinh(\\pi \\sqrt{(2 n_x+1)^2+(2 n_y+1)^2}/a z )}\n",
    "{\\sinh(\\pi \\sqrt{(2 n_y+1)^2+(2 n_y+1)^2}/a)} \\times [{\\rm V}]\n",
    "$$\n",
    "\n",
    "Una primera simplificación consiste en aproximar los $\\sinh$ por exponenciales:\n",
    "\n",
    "$$\n",
    "\\Phi(x,y,z)\\approx \\frac{16}{\\pi^2}\\sum_{n_x,n_y} \n",
    " \\frac{\\sin(\\pi (2 n_x+1)/a x )\\sin(\\pi (2 n_y+1)/a y )}{(2n_x+1)(2n_y+1)} \n",
    "e^{-\\pi \\sqrt{(2 n_x+1)^2+(2 n_y+1)^2}/a (1-z) } \\times [{\\rm V}]\n",
    "$$\n",
    "\n",
    "Notamos entonces que los términos con $n_x,n_y\\neq 0$ sólo contribuyen cerca de $z=a$. Podemos aproximar entonces \n",
    "\n",
    "$$\n",
    "\\Phi(x,y,z)\\approx \\frac{16}{\\pi^2}\n",
    " \\sin(\\pi /a x )\\sin(\\pi/a y )\n",
    "e^{\\pi \\sqrt{2}/a (z-a) } \\times [{\\rm V}]\n",
    "$$\n",
    "\n",
    "\n",
    "\n"
   ]
  },
  {
   "cell_type": "markdown",
   "metadata": {
    "ExecuteTime": {
     "end_time": "2020-04-16T21:12:48.661122Z",
     "start_time": "2020-04-16T21:12:48.649162Z"
    }
   },
   "source": [
    "1.b\n",
    "Si ahora dos caras opuestas están al mismo potencial, podemos implementar esa simetría directamente\n",
    "\n",
    "$$\n",
    "\\Phi(x,y,z)=\\sum_{n_x,n_y} A_{n_x,n_y} \\sin(\\pi n_x/a x )\\sin(\\pi n_y/a y )\\frac{\\cosh(\\pi \\sqrt{n_x^2+n_y^2} (z/a-1/2) )}\n",
    "{\\cosh(\\pi \\sqrt{n_x^2+n_y^2}/2)}\n",
    "$$"
   ]
  },
  {
   "cell_type": "markdown",
   "metadata": {},
   "source": [
    "Una alternativa es simplemente superponer las soluciones de 1.1\n",
    "$$\n",
    "\\frac{16}{\\pi^2}\\sin(\\pi/a x)\\sin(\\pi/a y)e^{-\\pi \\sqrt{2}/2}(e^{\\pi \\sqrt{2}/a(z-a/2)}+e^{-\\pi \\sqrt{2}/a (z-a/2)})\n",
    "$$\n",
    "\n",
    "$$\n",
    "\\frac{32}{\\pi^2}\\sin(\\pi/a x)\\sin(\\pi/a y)\\cosh(\\pi \\sqrt{2}/a(z-a/2))\n",
    "$$"
   ]
  },
  {
   "cell_type": "code",
   "execution_count": 24,
   "metadata": {
    "ExecuteTime": {
     "end_time": "2020-04-16T20:49:15.707774Z",
     "start_time": "2020-04-16T20:49:15.422508Z"
    }
   },
   "outputs": [
    {
     "data": {
      "text/plain": [
       "<matplotlib.legend.Legend at 0x7f8ed3ccdf10>"
      ]
     },
     "execution_count": 24,
     "metadata": {},
     "output_type": "execute_result"
    },
    {
     "data": {
      "image/png": "[encoded data removed]",
      "text/plain": [
       "<Figure size 432x288 with 1 Axes>"
      ]
     },
     "metadata": {
      "needs_background": "light"
     },
     "output_type": "display_data"
    }
   ],
   "source": [
    "## import matplotlib.pyplot as plt\n",
    "import numpy as np\n",
    "\n",
    "\n",
    "zs = np.linspace(0,1,100)\n",
    "\n",
    "nx=0\n",
    "ny=0\n",
    "\n",
    "plt.plot(zs,np.sinh(np.pi*np.sqrt((2*nx+1)**2+(2*ny+1)**2)*zs)/np.sinh(np.pi*np.sqrt((2*nx+1)**2+(2*ny+1)**2)))\n",
    "plt.plot(zs,np.exp(-np.sqrt((2*nx+1)**2+(2*ny+1)**2)*np.pi*(1.-zs)),label=\"nx=0,ny=0\")\n",
    "\n",
    "\n",
    "nx=1\n",
    "ny=0\n",
    "\n",
    "plt.plot(zs,np.sinh(np.pi*np.sqrt((2*nx+1)**2+(2*ny+1)**2)*zs)/np.sinh(np.pi*np.sqrt((2*nx+1)**2+(2*ny+1)**2)))\n",
    "plt.plot(zs,np.exp(-np.sqrt((2*nx+1)**2+(2*ny+1)**2)*np.pi*(1.-zs)),label=\"nx=1,ny=0\")\n",
    "\n",
    "\n",
    "\n",
    "nx=1\n",
    "ny=1\n",
    "\n",
    "plt.plot(zs,np.sinh(np.pi*np.sqrt((2*nx+1)**2+(2*ny+1)**2)*zs)/np.sinh(np.pi*np.sqrt((2*nx+1)**2+(2*ny+1)**2)))\n",
    "plt.plot(zs,np.exp(-np.sqrt((2*nx+1)**2+(2*ny+1)**2)*np.pi*(1.-zs)),label=\"nx=1,ny=1\")\n",
    "\n",
    "\n",
    "plt.legend()"
   ]
  },
  {
   "cell_type": "markdown",
   "metadata": {},
   "source": [
    "$$\n",
    "\\Phi(x,a/2,z)\n",
    "$$"
   ]
  },
  {
   "cell_type": "markdown",
   "metadata": {},
   "source": [
    "1.4 \n",
    "$$\n",
    "\\phi(x,y,z)=\\frac{32}{\\pi^2}\\sin(\\pi/a x)\\sin(\\pi/a y)\\exp(\\pi \\sqrt{2}/a(z-a))\n",
    "$$\n",
    "\n",
    "$$\n",
    "V(x,y,z)=V(z=a)\\phi(x,y,z)+V(z=0)\\phi(x,y,a-z)+V(x=0)\\phi(z,y,a-x)+V(x=a)\\phi(z,y,x)...\n",
    "$$"
   ]
  },
  {
   "cell_type": "code",
   "execution_count": 7,
   "metadata": {
    "ExecuteTime": {
     "end_time": "2020-04-16T22:05:38.809435Z",
     "start_time": "2020-04-16T22:05:38.150285Z"
    }
   },
   "outputs": [
    {
     "data": {
      "image/png": "[encoded data removed]",
      "text/plain": [
       "<Figure size 360x360 with 2 Axes>"
      ]
     },
     "metadata": {
      "needs_background": "light"
     },
     "output_type": "display_data"
    }
   ],
   "source": [
    "# Encabezado: cargar librerías\n",
    "%matplotlib inline\n",
    "import numpy as np                # Librería para funciones matemáticas\n",
    "import matplotlib.pyplot as plt   # Librería para graficos\n",
    "import matplotlib.cm as cm        # Módulo para controlar mapas de colores\n",
    "from mpl_toolkits.mplot3d import Axes3D   # Módulo 3D\n",
    "\n",
    "\n",
    "fig,ax=plt.subplots(figsize=(5,5))\n",
    "\n",
    "x = np.linspace(.0,1.,100)\n",
    "z = np.linspace(0.,1,100)\n",
    "\n",
    "# Construye a partir del par de parámetros, una grilla con los valores\n",
    "X, Z = np.meshgrid(x, z)\n",
    "V = 1*sum([\n",
    "          16/np.pi**2 * np.sin(np.pi *(1+2*nx)*X)*np.sin(  np.pi/2 * (2*ny+1))*np.exp(np.pi*np.sqrt( (1+2*nx)**2+(1+2*ny)**2 )*(Z-1))/((2*nx+1)*(2*ny+1)) \n",
    "         for nx in range(10) for ny in range(10)])- \\\n",
    "    1*sum([\n",
    "          16/np.pi**2 * np.sin(np.pi *(1+2*nx)*Z)*np.sin(  np.pi/2 * (2*ny+1))*np.exp(np.pi*np.sqrt( (1+2*nx)**2+(1+2*ny)**2 )*(X-1))/((2*nx+1)*(2*ny+1)) \n",
    "         for nx in range(10) for ny in range(10)]) + \\\n",
    "    0*sum([\n",
    "          16/np.pi**2 * np.sin(np.pi *(1+2*nx)*X)*np.sin(  np.pi/2 * (2*ny+1))*np.exp(-np.pi*np.sqrt( (1+2*nx)**2+(1+2*ny)**2 )*Z)/((2*nx+1)*(2*ny+1)) \n",
    "         for nx in range(10) for ny in range(10)])+ \\\n",
    "    0*sum([\n",
    "          16/np.pi**2 * np.sin(np.pi *(1+2*nx)*Z)*np.sin(  np.pi/2 * (2*ny+1))*np.exp(-np.pi*np.sqrt( (1+2*nx)**2+(1+2*ny)**2 )*X)/((2*nx+1)*(2*ny+1)) \n",
    "         for nx in range(10) for ny in range(10)])\n",
    "         \n",
    "c = ax.pcolor(X,Z,V,cmap=cm.coolwarm)   # c =ax.color(X,Z,V,cmap=cm.coolwarm)\n",
    "fig.colorbar(c,ax=ax)\n",
    "ax.set_xlabel(\"x\")\n",
    "ax.set_ylabel(\"z\")\n",
    "\n",
    "plt.show()\n",
    "\n",
    "\n"
   ]
  },
  {
   "cell_type": "code",
   "execution_count": 8,
   "metadata": {},
   "outputs": [
    {
     "name": "stdout",
     "output_type": "stream",
     "text": [
      "Help on method colorbar in module matplotlib.figure:\n",
      "\n",
      "colorbar(mappable, cax=None, ax=None, use_gridspec=True, **kw) method of matplotlib.figure.Figure instance\n",
      "    Create a colorbar for a ScalarMappable instance, *mappable*.\n",
      "    \n",
      "    Documentation for the pyplot thin wrapper:\n",
      "    \n",
      "    \n",
      "    Add a colorbar to a plot.\n",
      "    \n",
      "    Function signatures for the :mod:`~matplotlib.pyplot` interface; all\n",
      "    but the first are also method signatures for the\n",
      "    :meth:`~matplotlib.figure.Figure.colorbar` method::\n",
      "    \n",
      "      colorbar(**kwargs)\n",
      "      colorbar(mappable, **kwargs)\n",
      "      colorbar(mappable, cax=cax, **kwargs)\n",
      "      colorbar(mappable, ax=ax, **kwargs)\n",
      "    \n",
      "    Parameters\n",
      "    ----------\n",
      "    mappable\n",
      "        The `matplotlib.cm.ScalarMappable` (i.e., `~matplotlib.image.Image`,\n",
      "        `~matplotlib.contour.ContourSet`, etc.) described by this colorbar.\n",
      "        This argument is mandatory for the `.Figure.colorbar` method but optional\n",
      "        for the `.pyplot.colorbar` function, which sets the default to the current\n",
      "        image.\n",
      "    \n",
      "        Note that one can create a `ScalarMappable` \"on-the-fly\" to generate\n",
      "        colorbars not attached to a previously drawn artist, e.g. ::\n",
      "    \n",
      "            fig.colorbar(cm.ScalarMappable(norm=norm, cmap=cmap), ax=ax)\n",
      "    \n",
      "    cax : :class:`~matplotlib.axes.Axes` object, optional\n",
      "        Axes into which the colorbar will be drawn.\n",
      "    \n",
      "    ax : :class:`~matplotlib.axes.Axes`, list of Axes, optional\n",
      "        Parent axes from which space for a new colorbar axes will be stolen.\n",
      "        If a list of axes is given they will all be resized to make room for the\n",
      "        colorbar axes.\n",
      "    \n",
      "    use_gridspec : bool, optional\n",
      "        If *cax* is ``None``, a new *cax* is created as an instance of Axes.  If\n",
      "        *ax* is an instance of Subplot and *use_gridspec* is ``True``, *cax* is\n",
      "        created as an instance of Subplot using the :mod:`~.gridspec` module.\n",
      "    \n",
      "    Returns\n",
      "    -------\n",
      "    colorbar : `~matplotlib.colorbar.Colorbar`\n",
      "        See also its base class, `~matplotlib.colorbar.ColorbarBase`.\n",
      "    \n",
      "    Notes\n",
      "    -----\n",
      "    Additional keyword arguments are of two kinds:\n",
      "    \n",
      "      axes properties:\n",
      "    \n",
      "    \n",
      "        ============= ====================================================\n",
      "        Property      Description\n",
      "        ============= ====================================================\n",
      "        *orientation* vertical or horizontal\n",
      "        *fraction*    0.15; fraction of original axes to use for colorbar\n",
      "        *pad*         0.05 if vertical, 0.15 if horizontal; fraction\n",
      "                      of original axes between colorbar and new image axes\n",
      "        *shrink*      1.0; fraction by which to multiply the size of the colorbar\n",
      "        *aspect*      20; ratio of long to short dimensions\n",
      "        *anchor*      (0.0, 0.5) if vertical; (0.5, 1.0) if horizontal;\n",
      "                      the anchor point of the colorbar axes\n",
      "        *panchor*     (1.0, 0.5) if vertical; (0.5, 0.0) if horizontal;\n",
      "                      the anchor point of the colorbar parent axes. If\n",
      "                      False, the parent axes' anchor will be unchanged\n",
      "        ============= ====================================================\n",
      "    \n",
      "    \n",
      "      colorbar properties:\n",
      "    \n",
      "    \n",
      "        ============  ====================================================\n",
      "        Property      Description\n",
      "        ============  ====================================================\n",
      "        *extend*      {'neither', 'both', 'min', 'max'}\n",
      "                      If not 'neither', make pointed end(s) for out-of-\n",
      "                      range values.  These are set for a given colormap\n",
      "                      using the colormap set_under and set_over methods.\n",
      "        *extendfrac*  {*None*, 'auto', length, lengths}\n",
      "                      If set to *None*, both the minimum and maximum\n",
      "                      triangular colorbar extensions with have a length of\n",
      "                      5% of the interior colorbar length (this is the\n",
      "                      default setting). If set to 'auto', makes the\n",
      "                      triangular colorbar extensions the same lengths as\n",
      "                      the interior boxes (when *spacing* is set to\n",
      "                      'uniform') or the same lengths as the respective\n",
      "                      adjacent interior boxes (when *spacing* is set to\n",
      "                      'proportional'). If a scalar, indicates the length\n",
      "                      of both the minimum and maximum triangular colorbar\n",
      "                      extensions as a fraction of the interior colorbar\n",
      "                      length. A two-element sequence of fractions may also\n",
      "                      be given, indicating the lengths of the minimum and\n",
      "                      maximum colorbar extensions respectively as a\n",
      "                      fraction of the interior colorbar length.\n",
      "        *extendrect*  bool\n",
      "                      If *False* the minimum and maximum colorbar extensions\n",
      "                      will be triangular (the default). If *True* the\n",
      "                      extensions will be rectangular.\n",
      "        *spacing*     {'uniform', 'proportional'}\n",
      "                      Uniform spacing gives each discrete color the same\n",
      "                      space; proportional makes the space proportional to\n",
      "                      the data interval.\n",
      "        *ticks*       *None* or list of ticks or Locator\n",
      "                      If None, ticks are determined automatically from the\n",
      "                      input.\n",
      "        *format*      None or str or Formatter\n",
      "                      If None, the\n",
      "                      :class:`~matplotlib.ticker.ScalarFormatter` is used.\n",
      "                      If a format string is given, e.g., '%.3f', that is\n",
      "                      used. An alternative\n",
      "                      :class:`~matplotlib.ticker.Formatter` object may be\n",
      "                      given instead.\n",
      "        *drawedges*   bool\n",
      "                      Whether to draw lines at color boundaries.\n",
      "        *label*       str\n",
      "                      The label on the colorbar's long axis.\n",
      "        ============  ====================================================\n",
      "    \n",
      "        The following will probably be useful only in the context of\n",
      "        indexed colors (that is, when the mappable has norm=NoNorm()),\n",
      "        or other unusual circumstances.\n",
      "    \n",
      "        ============   ===================================================\n",
      "        Property       Description\n",
      "        ============   ===================================================\n",
      "        *boundaries*   None or a sequence\n",
      "        *values*       None or a sequence which must be of length 1 less\n",
      "                       than the sequence of *boundaries*. For each region\n",
      "                       delimited by adjacent entries in *boundaries*, the\n",
      "                       color mapped to the corresponding value in values\n",
      "                       will be used.\n",
      "        ============   ===================================================\n",
      "    \n",
      "    \n",
      "    \n",
      "    If *mappable* is a :class:`~matplotlib.contours.ContourSet`, its *extend*\n",
      "    kwarg is included automatically.\n",
      "    \n",
      "    The *shrink* kwarg provides a simple way to scale the colorbar with respect\n",
      "    to the axes. Note that if *cax* is specified, it determines the size of the\n",
      "    colorbar and *shrink* and *aspect* kwargs are ignored.\n",
      "    \n",
      "    For more precise control, you can manually specify the positions of\n",
      "    the axes objects in which the mappable and the colorbar are drawn.  In\n",
      "    this case, do not use any of the axes properties kwargs.\n",
      "    \n",
      "    It is known that some vector graphics viewers (svg and pdf) renders white gaps\n",
      "    between segments of the colorbar.  This is due to bugs in the viewers, not\n",
      "    Matplotlib.  As a workaround, the colorbar can be rendered with overlapping\n",
      "    segments::\n",
      "    \n",
      "        cbar = colorbar()\n",
      "        cbar.solids.set_edgecolor(\"face\")\n",
      "        draw()\n",
      "    \n",
      "    However this has negative consequences in other circumstances, e.g. with\n",
      "    semi-transparent images (alpha < 1) and colorbar extensions; therefore, this\n",
      "    workaround is not used by default (see issue #1188).\n",
      "\n"
     ]
    }
   ],
   "source": [
    "help(fig.colorbar)"
   ]
  },
  {
   "cell_type": "code",
   "execution_count": null,
   "metadata": {},
   "outputs": [],
   "source": []
  }
 ],
 "metadata": {
  "kernelspec": {
   "display_name": "Python 3",
   "language": "python",
   "name": "python3"
  },
  "language_info": {
   "codemirror_mode": {
    "name": "ipython",
    "version": 3
   },
   "file_extension": ".py",
   "mimetype": "text/x-python",
   "name": "python",
   "nbconvert_exporter": "python",
   "pygments_lexer": "ipython3",
   "version": "3.8.2"
  },
  "latex_envs": {
   "LaTeX_envs_menu_present": true,
   "autoclose": false,
   "autocomplete": true,
   "bibliofile": "biblio.bib",
   "cite_by": "apalike",
   "current_citInitial": 1,
   "eqLabelWithNumbers": true,
   "eqNumInitial": 1,
   "hotkeys": {
    "equation": "Ctrl-E",
    "itemize": "Ctrl-I"
   },
   "labels_anchors": false,
   "latex_user_defs": false,
   "report_style_numbering": false,
   "user_envs_cfg": false
  },
  "toc": {
   "base_numbering": 1,
   "nav_menu": {},
   "number_sections": true,
   "sideBar": true,
   "skip_h1_title": false,
   "title_cell": "Table of Contents",
   "title_sidebar": "Contents",
   "toc_cell": false,
   "toc_position": {},
   "toc_section_display": true,
   "toc_window_display": false
  },
  "varInspector": {
   "cols": {
    "lenName": 16,
    "lenType": 16,
    "lenVar": 40
   },
   "kernels_config": {
    "python": {
     "delete_cmd_postfix": "",
     "delete_cmd_prefix": "del ",
     "library": "var_list.py",
     "varRefreshCmd": "print(var_dic_list())"
    },
    "r": {
     "delete_cmd_postfix": ") ",
     "delete_cmd_prefix": "rm(",
     "library": "var_list.r",
     "varRefreshCmd": "cat(var_dic_list()) "
    }
   },
   "types_to_exclude": [
    "module",
    "function",
    "builtin_function_or_method",
    "instance",
    "_Feature"
   ],
   "window_display": true
  }
 },
 "nbformat": 4,
 "nbformat_minor": 4
}
