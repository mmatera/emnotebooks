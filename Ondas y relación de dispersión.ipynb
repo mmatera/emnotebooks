{
 "cells": [
  {
   "cell_type": "code",
   "execution_count": 22,
   "metadata": {
    "ExecuteTime": {
     "end_time": "2020-05-07T12:51:20.688386Z",
     "start_time": "2020-05-07T12:51:20.661032Z"
    }
   },
   "outputs": [],
   "source": [
    "%matplotlib inline\n",
    "import matplotlib.pyplot as plt\n",
    "import numpy as np\n",
    "import matplotlib.animation as animation\n",
    "from matplotlib.animation import FuncAnimation\n",
    "from IPython.display import HTML\n",
    "import ipywidgets as widgets\n",
    "\n",
    "\n",
    "nmax = 200\n",
    "xmax = 60\n",
    "\n",
    "xs = np.linspace(-xmax,xmax,100)\n",
    "\n",
    "def paquete_inicial_gaussiano(x0, k0, a):\n",
    "    \"\"\"\n",
    "    Dada una función que corresponde a un paquete gaussiano de ancho a,\n",
    "    centrado en x0, y con una fase k0(x-x0)\n",
    "    \"\"\"\n",
    "    return (lambda x: np.exp(-(x-x0)**2/(2*a**2)+1j*k0*(x-x0) ))\n",
    "\n",
    "def paquete_inicial_cuadrado(x0, k0, a):\n",
    "    return lambda x: np.exp(1j*k0*(x-x0))  if abs(x-x0)< a else 0 \n",
    "\n",
    "\n",
    "def paquete_inicial_triangular(x0, k0, a):\n",
    "    return lambda x: np.exp(1j*k0*(x-x0))*(1-abs(1-x/x0))  if abs(x-x0)< a else 0 \n",
    "\n",
    "\n",
    "def evol_paquete(paquete0, reldisp):\n",
    "    \"\"\"\n",
    "    Dada una función que define al estado inicial del paquete de ondas, y una \n",
    "    relación de dispersión, devuelve una función de x y t que describe la \n",
    "    evolución del paquete dado.\n",
    "    \"\"\"\n",
    "    global nmax, xmax\n",
    "    # nmax = 1000\n",
    "    # xmax = 60\n",
    "    deltax = xmax / nmax\n",
    "    ks = np.pi/xmax * np.array(range(-nmax, nmax))\n",
    "    aes = np.array([deltax * np.sum([paquete0(x) * np.exp(-1j*k*x) \n",
    "                                     for x in np.linspace(-xmax, xmax, 2*nmax)]) for k in ks])\n",
    "    def evol(x,t):\n",
    "        return np.array([np.exp(1j*(k*x-reldisp(k)*t)) for k in ks]).dot(aes).real/(2*xmax)\n",
    "    \n",
    "    return evol\n",
    "    \n",
    "    \n",
    "def rel_dispersion_lineal(k):\n",
    "    return k\n",
    "\n",
    "def rel_dispersion_cuadratica(k):\n",
    "    return k**2+1\n",
    "\n",
    "\n",
    "def rel_dispersion_relativista(k):\n",
    "    return np.sqrt(k**2+1)\n",
    "\n",
    "\n",
    "def rel_dispersion_anomala(k):\n",
    "    return (1/(k+1j)).real\n",
    "\n",
    "\n",
    "paquetes={\"gaussiano\":paquete_inicial_gaussiano,\n",
    "          \"cuadrado\": paquete_inicial_cuadrado,\n",
    "          \"triangular\": paquete_inicial_triangular,}\n",
    "\n",
    "reldisps={\"lineal\":rel_dispersion_lineal,\n",
    "        \"cuadratica\": rel_dispersion_cuadratica,\n",
    "         \"anomala\": rel_dispersion_anomala,}"
   ]
  },
  {
   "cell_type": "markdown",
   "metadata": {},
   "source": [
    "# Construir paquete"
   ]
  },
  {
   "cell_type": "code",
   "execution_count": 26,
   "metadata": {
    "ExecuteTime": {
     "end_time": "2020-05-07T12:52:52.034172Z",
     "start_time": "2020-05-07T12:52:41.683447Z"
    }
   },
   "outputs": [
    {
     "data": {
      "application/vnd.jupyter.widget-view+json": {
       "model_id": "ca457eb5df2a4bf9971d7a47b61a233e",
       "version_major": 2,
       "version_minor": 0
      },
      "text/plain": [
       "Label(value='listo...')"
      ]
     },
     "metadata": {},
     "output_type": "display_data"
    },
    {
     "data": {
      "application/vnd.jupyter.widget-view+json": {
       "model_id": "3ec3835962204ce5b6780c8a8e43eea7",
       "version_major": 2,
       "version_minor": 0
      },
      "text/plain": [
       "interactive(children=(Dropdown(description='tipo pulso:', options=('gaussiano', 'cuadrado', 'triangular'), val…"
      ]
     },
     "metadata": {},
     "output_type": "display_data"
    }
   ],
   "source": [
    "paquete = None\n",
    "\n",
    "\n",
    "\n",
    "\n",
    "tipopulso = widgets.Dropdown(options=['gaussiano','cuadrado',\"triangular\"],\n",
    "    description='tipo pulso:',\n",
    "    ensure_option=True,\n",
    "    disabled=False)\n",
    "\n",
    "tiporeldisp = widgets.Dropdown(options=['lineal','cuadratica',\"anomala\"],\n",
    "    description='relación de dispersión:',\n",
    "    ensure_option=True,\n",
    "    disabled=False)\n",
    "\n",
    "\n",
    "klimslider = widgets.FloatLogSlider(base=2.,min=6.,max=13.,step=1.,\n",
    "    description='k maximo',\n",
    "    ensure_option=True,\n",
    "    disabled=False)\n",
    "\n",
    "k0slider = widgets.FloatSlider(min=0.,max=100.,step=1.,\n",
    "    description='k0',\n",
    "    ensure_option=True,\n",
    "    disabled=False)\n",
    "\n",
    "x0slider = widgets.FloatSlider(min=-xmax,max=xmax,step=1.,\n",
    "    description='x0',\n",
    "    ensure_option=True,\n",
    "    disabled=False)\n",
    "\n",
    "aslider = widgets.FloatLogSlider(base=2.,min=-2.,max=np.log(xmax)/np.log(2.),step=.5,\n",
    "    description='semi ancho pulso',\n",
    "    ensure_option=True,\n",
    "    disabled=False)\n",
    "\n",
    "\n",
    "status = widgets.Label(\"listo...\")\n",
    "display(status)\n",
    "\n",
    "def definir_paquete(pulso,reldisp,x0,k0,a,kmax):\n",
    "    global paquete\n",
    "    global nmax\n",
    "    global xs\n",
    "    reldisp = reldisps[reldisp]\n",
    "    nmax = int(round(kmax * (xmax)/(2*np.pi)))\n",
    "    status.value = \"Espere: fabricando el pulso... \"\n",
    "    paquete = evol_paquete(paquetes[pulso](x0,k0,a), reldisp)\n",
    "    status.value = \"... listo\"\n",
    "    print(\"Paquete \"+ pulso + \" definido.\")\n",
    "    print(\"x0= \"+ str(x0))\n",
    "    print(\"k0= \"+ str(k0))\n",
    "    print(\"vel grupo en k0 = \"+ str( 100*(reldisp(k0+.01)-reldisp(k0-.01) )))\n",
    "    if k0==0:\n",
    "        print(\"vel fase en k0 =0\")\n",
    "    else:\n",
    "        print(\"vel fase en k0 = \"+ str( reldisp(k0)/k0   ))\n",
    "        \n",
    "    plt.plot(xs,np.array([paquete(x,0) for x in xs ]))\n",
    "    plt.title(\"Pulso a t=0\")\n",
    "\n",
    "    \n",
    "    \n",
    "interact=widgets.interact(definir_paquete,\n",
    "                          pulso=tipopulso,\n",
    "                          reldisp=tiporeldisp,\n",
    "                          x0=x0slider,\n",
    "                          k0=k0slider,\n",
    "                          a=aslider,\n",
    "                          kmax=klimslider\n",
    "                          )\n"
   ]
  },
  {
   "cell_type": "code",
   "execution_count": null,
   "metadata": {
    "ExecuteTime": {
     "start_time": "2020-05-07T12:58:18.492Z"
    }
   },
   "outputs": [],
   "source": [
    "\n",
    "\n",
    "fig, ax=plt.subplots(1,1)\n",
    "gpaq, =ax.plot(xs,np.array([paquete(x,0) for x in xs]),animated=True)\n",
    "\n",
    "def init():\n",
    "    ax.set_xlim(-xmax, xmax)\n",
    "    ax.set_ylim(-1, 1)\n",
    "    return gpaq,\n",
    "\n",
    "def update(t):\n",
    "    gpaq.set_data(xs, np.array([paquete(x,t) for x in xs]))\n",
    "    return gpaq,\n",
    "\n",
    "ani = FuncAnimation(fig, update, frames=np.linspace(0, 120, 128),\n",
    "                    init_func=init, blit=True)\n",
    "\n",
    "ani = ani.to_jshtml()\n",
    "plt.close()\n",
    "HTML(ani)"
   ]
  },
  {
   "cell_type": "code",
   "execution_count": null,
   "metadata": {},
   "outputs": [],
   "source": []
  }
 ],
 "metadata": {
  "kernelspec": {
   "display_name": "Python 3",
   "language": "python",
   "name": "python3"
  },
  "language_info": {
   "codemirror_mode": {
    "name": "ipython",
    "version": 3
   },
   "file_extension": ".py",
   "mimetype": "text/x-python",
   "name": "python",
   "nbconvert_exporter": "python",
   "pygments_lexer": "ipython3",
   "version": "3.7.6"
  },
  "latex_envs": {
   "LaTeX_envs_menu_present": true,
   "autoclose": false,
   "autocomplete": true,
   "bibliofile": "biblio.bib",
   "cite_by": "apalike",
   "current_citInitial": 1,
   "eqLabelWithNumbers": true,
   "eqNumInitial": 1,
   "hotkeys": {
    "equation": "Ctrl-E",
    "itemize": "Ctrl-I"
   },
   "labels_anchors": false,
   "latex_user_defs": false,
   "report_style_numbering": false,
   "user_envs_cfg": false
  },
  "toc": {
   "base_numbering": 1,
   "nav_menu": {},
   "number_sections": true,
   "sideBar": true,
   "skip_h1_title": false,
   "title_cell": "Table of Contents",
   "title_sidebar": "Contents",
   "toc_cell": false,
   "toc_position": {},
   "toc_section_display": true,
   "toc_window_display": false
  },
  "varInspector": {
   "cols": {
    "lenName": 16,
    "lenType": 16,
    "lenVar": 40
   },
   "kernels_config": {
    "python": {
     "delete_cmd_postfix": "",
     "delete_cmd_prefix": "del ",
     "library": "var_list.py",
     "varRefreshCmd": "print(var_dic_list())"
    },
    "r": {
     "delete_cmd_postfix": ") ",
     "delete_cmd_prefix": "rm(",
     "library": "var_list.r",
     "varRefreshCmd": "cat(var_dic_list()) "
    }
   },
   "types_to_exclude": [
    "module",
    "function",
    "builtin_function_or_method",
    "instance",
    "_Feature"
   ],
   "window_display": true
  }
 },
 "nbformat": 4,
 "nbformat_minor": 4
}
