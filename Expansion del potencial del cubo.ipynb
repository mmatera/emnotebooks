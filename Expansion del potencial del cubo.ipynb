{
 "cells": [
  {
   "cell_type": "markdown",
   "metadata": {
    "ExecuteTime": {
     "end_time": "2020-04-16T20:12:26.889681Z",
     "start_time": "2020-04-16T20:12:26.884753Z"
    }
   },
   "source": [
    "1.a\n",
    "\n",
    "Solución general para la ecuación de Laplace para un cubo con todas menos la cara $z=a$:\n",
    "\n",
    "$$\n",
    "\\Phi(x,y,z)=\\sum_{n_x,n_y} A_{n_x,n_y} \\sin(\\pi n_x/a x )\\sin(\\pi n_y/a y )\\frac{\\sinh(\\pi \\sqrt{n_x^2+n_y^2}/a z )}\n",
    "{\\sinh(\\pi \\sqrt{n_x^2+n_y^2})}\n",
    "$$"
   ]
  },
  {
   "cell_type": "markdown",
   "metadata": {},
   "source": [
    "con\n",
    "$$\n",
    "\\iint  \\sin(\\pi n_x/a x )\\sin(\\pi n_y/a y )  f(x,y)dx dy= \\sum_{n'_x,n'_y} A_{n'_x,n'_y} \\iint\\sin(\\pi n'_x/a x )\\sin(\\pi n'_y/a y )  \\sin(\\pi n_x/a x )\\sin(\\pi n_y/a y ) dxdy\n",
    "$$\n",
    "\n",
    "$$\n",
    "\\iint  \\sin(\\pi n_x/a x )\\sin(\\pi n_y/a y )  f(x,y)dx dy=  A_{n_x,n_y} \\int\\sin^2(\\pi n_x/a x )dx \\int\\sin^2(\\pi n_y/a y )dy \n",
    "$$\n",
    "\n",
    "Para un potencial constante:\n",
    "$$\n",
    " A_{n_x,n_y}  =\\frac{4 \\times {\\rm V}}{a^2} \\iint  \\sin(\\pi n_x/a x )\\sin(\\pi n_y/a y ) dx dy\n",
    "$$\n",
    "\n",
    "luego,\n",
    "$$\n",
    " A_{n_x,n_y}  =\\frac{16}{\\pi^2 n_x n_y} \\frac{1-(-1)^{n_x}}{2}\\frac{1-(-1)^{n_y}}{2}\\times {\\rm V} \n",
    "$$\n",
    "De esta manera,\n",
    "\n",
    "\n",
    "$$\n",
    "\\Phi(x,y,z)=\\frac{16}{\\pi^2}\\sum_{n_x,n_y} \\frac{\\sin(\\pi (2 n_x+1)/a x )\\sin(\\pi (2 n_y+1)/a y )}{(2n_x+1)(2n_y+1)} \\frac{\\sinh(\\pi \\sqrt{(2 n_x+1)^2+(2 n_y+1)^2}/a z )}\n",
    "{\\sinh(\\pi \\sqrt{(2 n_y+1)^2+(2 n_y+1)^2}/a)} \\times [{\\rm V}]\n",
    "$$\n",
    "\n",
    "Una primera simplificación consiste en aproximar los $\\sinh$ por exponenciales:\n",
    "\n",
    "$$\n",
    "\\Phi(x,y,z)\\approx \\frac{16}{\\pi^2}\\sum_{n_x,n_y} \n",
    " \\frac{\\sin(\\pi (2 n_x+1)/a x )\\sin(\\pi (2 n_y+1)/a y )}{(2n_x+1)(2n_y+1)} \n",
    "e^{-\\pi \\sqrt{(2 n_x+1)^2+(2 n_y+1)^2}/a (1-z) } \\times [{\\rm V}]\n",
    "$$\n",
    "\n",
    "Notamos entonces que los términos con $n_x,n_y\\neq 0$ sólo contribuyen cerca de $z=a$. Podemos aproximar entonces \n",
    "\n",
    "$$\n",
    "\\Phi(x,y,z)\\approx \\frac{16}{\\pi^2}\n",
    " \\sin(\\pi /a x )\\sin(\\pi/a y )\n",
    "e^{\\pi \\sqrt{2}/a (z-a) } \\times [{\\rm V}]\n",
    "$$\n",
    "\n",
    "\n",
    "\n"
   ]
  },
  {
   "cell_type": "markdown",
   "metadata": {
    "ExecuteTime": {
     "end_time": "2020-04-16T21:12:48.661122Z",
     "start_time": "2020-04-16T21:12:48.649162Z"
    }
   },
   "source": [
    "1.b\n",
    "Si ahora dos caras opuestas están al mismo potencial, podemos implementar esa simetría directamente\n",
    "\n",
    "$$\n",
    "\\Phi(x,y,z)=\\sum_{n_x,n_y} A_{n_x,n_y} \\sin(\\pi n_x/a x )\\sin(\\pi n_y/a y )\\frac{\\cosh(\\pi \\sqrt{n_x^2+n_y^2} (z/a-1/2) )}\n",
    "{\\cosh(\\pi \\sqrt{n_x^2+n_y^2}/2)}\n",
    "$$"
   ]
  },
  {
   "cell_type": "markdown",
   "metadata": {},
   "source": [
    "Una alternativa es simplemente superponer las soluciones de 1.1\n",
    "$$\n",
    "\\frac{16}{\\pi^2}\\sin(\\pi/a x)\\sin(\\pi/a y)e^{-\\pi \\sqrt{2}/2}(e^{\\pi \\sqrt{2}/a(z-a/2)}+e^{-\\pi \\sqrt{2}/a (z-a/2)})\n",
    "$$\n",
    "\n",
    "$$\n",
    "\\frac{32}{\\pi^2}\\sin(\\pi/a x)\\sin(\\pi/a y)\\cosh(\\pi \\sqrt{2}/a(z-a/2))\n",
    "$$"
   ]
  },
  {
   "cell_type": "code",
   "execution_count": 24,
   "metadata": {
    "ExecuteTime": {
     "end_time": "2020-04-16T20:49:15.707774Z",
     "start_time": "2020-04-16T20:49:15.422508Z"
    }
   },
   "outputs": [
    {
     "data": {
      "text/plain": [
       "<matplotlib.legend.Legend at 0x7f8ed3ccdf10>"
      ]
     },
     "execution_count": 24,
     "metadata": {},
     "output_type": "execute_result"
    },
    {
     "data": {
      "image/png": "[encoded data removed]",
      "text/plain": [
       "<Figure size 432x288 with 1 Axes>"
      ]
     },
     "metadata": {
      "needs_background": "light"
     },
     "output_type": "display_data"
    }
   ],
   "source": [
    "## import matplotlib.pyplot as plt\n",
    "import numpy as np\n",
    "\n",
    "\n",
    "zs = np.linspace(0,1,100)\n",
    "\n",
    "nx=0\n",
    "ny=0\n",
    "\n",
    "plt.plot(zs,np.sinh(np.pi*np.sqrt((2*nx+1)**2+(2*ny+1)**2)*zs)/np.sinh(np.pi*np.sqrt((2*nx+1)**2+(2*ny+1)**2)))\n",
    "plt.plot(zs,np.exp(-np.sqrt((2*nx+1)**2+(2*ny+1)**2)*np.pi*(1.-zs)),label=\"nx=0,ny=0\")\n",
    "\n",
    "\n",
    "nx=1\n",
    "ny=0\n",
    "\n",
    "plt.plot(zs,np.sinh(np.pi*np.sqrt((2*nx+1)**2+(2*ny+1)**2)*zs)/np.sinh(np.pi*np.sqrt((2*nx+1)**2+(2*ny+1)**2)))\n",
    "plt.plot(zs,np.exp(-np.sqrt((2*nx+1)**2+(2*ny+1)**2)*np.pi*(1.-zs)),label=\"nx=1,ny=0\")\n",
    "\n",
    "\n",
    "\n",
    "nx=1\n",
    "ny=1\n",
    "\n",
    "plt.plot(zs,np.sinh(np.pi*np.sqrt((2*nx+1)**2+(2*ny+1)**2)*zs)/np.sinh(np.pi*np.sqrt((2*nx+1)**2+(2*ny+1)**2)))\n",
    "plt.plot(zs,np.exp(-np.sqrt((2*nx+1)**2+(2*ny+1)**2)*np.pi*(1.-zs)),label=\"nx=1,ny=1\")\n",
    "\n",
    "\n",
    "plt.legend()"
   ]
  },
  {
   "cell_type": "markdown",
   "metadata": {},
   "source": [
    "$$\n",
    "\\Phi(x,a/2,z)\n",
    "$$"
   ]
  },
  {
   "cell_type": "markdown",
   "metadata": {},
   "source": [
    "1.4 \n",
    "$$\n",
    "\\phi(x,y,z)=\\frac{32}{\\pi^2}\\sin(\\pi/a x)\\sin(\\pi/a y)\\exp(\\pi \\sqrt{2}/a(z-a))\n",
    "$$\n",
    "\n",
    "$$\n",
    "V(x,y,z)=V(z=a)\\phi(x,y,z)+V(z=0)\\phi(x,y,a-z)+V(x=0)\\phi(z,y,a-x)+V(x=a)\\phi(z,y,x)...\n",
    "$$"
   ]
  },
  {
   "cell_type": "code",
   "execution_count": 79,
   "metadata": {
    "ExecuteTime": {
     "end_time": "2020-04-16T22:05:38.809435Z",
     "start_time": "2020-04-16T22:05:38.150285Z"
    }
   },
   "outputs": [
    {
     "data": {
      "text/plain": [
       "Text(0, 0.5, 'z')"
      ]
     },
     "execution_count": 79,
     "metadata": {},
     "output_type": "execute_result"
    },
    {
     "data": {
      "image/png": "[encoded data removed]",
      "text/plain": [
       "<Figure size 360x360 with 1 Axes>"
      ]
     },
     "metadata": {
      "needs_background": "light"
     },
     "output_type": "display_data"
    }
   ],
   "source": [
    "# Encabezado: cargar librerías\n",
    "%matplotlib inline\n",
    "import numpy as np                # Librería para funciones matemáticas\n",
    "import matplotlib.pyplot as plt   # Librería para graficos\n",
    "import matplotlib.cm as cm        # Módulo para controlar mapas de colores\n",
    "from mpl_toolkits.mplot3d import Axes3D   # Módulo 3D\n",
    "\n",
    "\n",
    "fig,ax=plt.subplots(figsize=(5,5))\n",
    "\n",
    "x = np.linspace(.0,1.,100)\n",
    "z = np.linspace(0.,1,100)\n",
    "\n",
    "# Construye a partir del par de parámetros, una grilla con los valores\n",
    "X, Z = np.meshgrid(x, z)\n",
    "V = 1*sum([\n",
    "          16/np.pi**2 * np.sin(np.pi *(1+2*nx)*X)*np.sin(  np.pi/2 * (2*ny+1))*np.exp(np.pi*np.sqrt( (1+2*nx)**2+(1+2*ny)**2 )*(Z-1))/((2*nx+1)*(2*ny+1)) \n",
    "         for nx in range(10) for ny in range(10)])- \\\n",
    "    1*sum([\n",
    "          16/np.pi**2 * np.sin(np.pi *(1+2*nx)*Z)*np.sin(  np.pi/2 * (2*ny+1))*np.exp(np.pi*np.sqrt( (1+2*nx)**2+(1+2*ny)**2 )*(X-1))/((2*nx+1)*(2*ny+1)) \n",
    "         for nx in range(10) for ny in range(10)]) + \\\n",
    "    0*sum([\n",
    "          16/np.pi**2 * np.sin(np.pi *(1+2*nx)*X)*np.sin(  np.pi/2 * (2*ny+1))*np.exp(-np.pi*np.sqrt( (1+2*nx)**2+(1+2*ny)**2 )*Z)/((2*nx+1)*(2*ny+1)) \n",
    "         for nx in range(10) for ny in range(10)])+ \\\n",
    "    0*sum([\n",
    "          16/np.pi**2 * np.sin(np.pi *(1+2*nx)*Z)*np.sin(  np.pi/2 * (2*ny+1))*np.exp(-np.pi*np.sqrt( (1+2*nx)**2+(1+2*ny)**2 )*X)/((2*nx+1)*(2*ny+1)) \n",
    "         for nx in range(10) for ny in range(10)])\n",
    "         \n",
    "ax.pcolor(X,Z,V,cmap=cm.coolwarm)\n",
    "\n",
    "\n",
    "ax.set_xlabel(\"x\")\n",
    "ax.set_ylabel(\"z\")\n"
   ]
  }
 ],
 "metadata": {
  "kernelspec": {
   "display_name": "Python 3",
   "language": "python",
   "name": "python3"
  },
  "latex_envs": {
   "LaTeX_envs_menu_present": true,
   "autoclose": false,
   "autocomplete": true,
   "bibliofile": "biblio.bib",
   "cite_by": "apalike",
   "current_citInitial": 1,
   "eqLabelWithNumbers": true,
   "eqNumInitial": 1,
   "hotkeys": {
    "equation": "Ctrl-E",
    "itemize": "Ctrl-I"
   },
   "labels_anchors": false,
   "latex_user_defs": false,
   "report_style_numbering": false,
   "user_envs_cfg": false
  },
  "toc": {
   "base_numbering": 1,
   "nav_menu": {},
   "number_sections": true,
   "sideBar": true,
   "skip_h1_title": false,
   "title_cell": "Table of Contents",
   "title_sidebar": "Contents",
   "toc_cell": false,
   "toc_position": {},
   "toc_section_display": true,
   "toc_window_display": false
  },
  "varInspector": {
   "cols": {
    "lenName": 16,
    "lenType": 16,
    "lenVar": 40
   },
   "kernels_config": {
    "python": {
     "delete_cmd_postfix": "",
     "delete_cmd_prefix": "del ",
     "library": "var_list.py",
     "varRefreshCmd": "print(var_dic_list())"
    },
    "r": {
     "delete_cmd_postfix": ") ",
     "delete_cmd_prefix": "rm(",
     "library": "var_list.r",
     "varRefreshCmd": "cat(var_dic_list()) "
    }
   },
   "types_to_exclude": [
    "module",
    "function",
    "builtin_function_or_method",
    "instance",
    "_Feature"
   ],
   "window_display": true
  }
 },
 "nbformat": 4,
 "nbformat_minor": 4
}
