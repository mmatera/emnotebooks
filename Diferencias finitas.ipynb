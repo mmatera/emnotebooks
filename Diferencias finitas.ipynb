{
 "cells": [
  {
   "cell_type": "markdown",
   "metadata": {},
   "source": [
    "# Diferencias finitas\n",
    "\n",
    "\n",
    "Una forma de resolver el problema de Laplace numéricamente es en términos del llamado método de diferencias finitas. En este, el dominio es discretizado introduciendo una grilla rectangular de puntos equiespaciados, separados por una distancia $\\varepsilon$ suficientemente pequeña como para que el potencial que esperamos obtener varíe suavemente entre puntos vecinos de la grilla.\n",
    "\n",
    "Aproximamos entonces el valor de la derivada direccional en un punto,  a lo largo de uno de los ejes de la grilla, como \n",
    "$$\n",
    "\\frac{\\partial \\phi(\\vec{x}_0)}{\\partial \\zeta_i} \\approx \\frac{\\phi(\\vec{x}_0+\\varepsilon\\hat{e}_i) -\\phi(\\vec{x}_0) }{\\varepsilon}\n",
    "$$\n",
    "Notemos que en esta expresión, la derivada direccional en un sentido y en el opuesto no tienen por qué coincidir. Una mejor aproximación consistiría en asignar este valor a la derivada direccional *en el punto medio* entre $\\vec{x}_i$ y $\\vec{x}_i + \\varepsilon \\hat{e}_i$.\n",
    "\n",
    "Bajo esta hipótesis, podemos aplicar nuevamente la misma regla para obtener una estimación de la derivada segunda en el punto $x_0$:\n",
    "$$\n",
    "\\frac{\\partial^2 \\phi(\\vec{x}_0)}{\\partial \\zeta_i^2} \\approx \\frac{\n",
    "\\frac{\\partial \\phi(\\vec{x}_0+\\varepsilon/2 \\check{e}_i)}{\\partial \\zeta_i} -\n",
    "\\frac{\\partial \\phi(\\vec{x}_0-\\varepsilon/2 \\check{e}_i)}{\\partial \\zeta_i}\n",
    "}{\\varepsilon}\\approx \\frac{\\phi(\\vec{x}_0+\\varepsilon \\check{e}_i)+\\phi(\\vec{x}_0-\\varepsilon \\check{e}_i)\n",
    "-2\\phi(\\vec{x}_0)}{\\varepsilon^2}\n",
    "$$\n",
    "\n",
    "El laplaciano de $\\phi(\\vec{x})$ en $x_0$ se aproxima entonces como\n",
    "$$\n",
    "\\nabla^2 \\phi(\\vec{x}_0)= \\frac{\\overline{\\phi(\\vec{x}_0)}-\\phi(\\vec{x}_0)}{\\varepsilon^2/n} \n",
    "$$\n",
    "donde $n$ es el número de vecinos y $\\overline{\\phi(\\vec{x}_0)}=\\frac{\\sum_{i,\\pm}\\phi(\\vec{x}_0\\pm\\varepsilon\\check{e}_{i})}{n}$ es el *valor promedio* de $\\varphi$ sobre todos los puntos vecinos a $x_0$\n",
    "\n",
    "De esta manera, una solución para esta discretización de la ecuación de Laplace debe satisfacer que en cada punto, el valor de $\\varphi$ coincide con el promedio sobre sus vecinos. \n",
    "Una condición semejante podría haberse obtenido partiendo de la propiedad de la Ec. de Laplace continua, que establece que el promedio de $\\phi(\\vec{x})$ sobre una esfera coincide con el valor que toma en su centro.\n",
    "\n",
    "\n",
    "Las condiciones de borde tipo Dirichlet se imponen ahora fijando el valor del potencial sobre los puntos de la grilla cercanos a la superficie que la define. De la misma manera, la Ec. de Poisson toma la forma discretizada\n",
    "$$\n",
    "\\phi(x_0)= \\overline{\\phi(x_0)} + \\frac{\\varepsilon^2}{n \\epsilon_0} \\rho(x_0)\n",
    "$$\n",
    "\n",
    "con lo que podemos construir la función de Green del problema remplazando $\\rho(x)$ por una carga $Q=\\varepsilon^3 \\rho(x)$\n",
    "\n",
    "\n",
    "Las ecuaciones discretizadas definen un problema lineal con restricciones, que se puede resolver en principio por inversión directa. Sin embargo, en la práctica se suele preferir el uso del llamado \"método de relajación autoconsistente\": se parte de una aproximación a la solución $\\phi_0$, que cumple con las condiciones de borde.\n",
    "A partir de esta aproximación, se produce una nueva aproximación vía el remplazo\n",
    "$$\n",
    "\\phi_1(\\vec{x})=\\overline{\\phi_0}(\\vec{x}) + \\frac{\\varepsilon^2}{n \\epsilon_0} \\rho(x_0)\n",
    "$$\n",
    "\n",
    "Iterando este procedimiento hasta que $\\max_{\\vec{x}}|\\phi_{n-1}(\\vec{x})-\\phi_{n}(\\vec{x})|$ sea menor que una cierta tolerancia, encontramos la solución buscada.\n",
    "\n",
    "\n",
    "\n"
   ]
  },
  {
   "cell_type": "code",
   "execution_count": 132,
   "metadata": {},
   "outputs": [],
   "source": [
    "%matplotlib inline\n",
    "import numpy as np\n",
    "import matplotlib.pyplot as plt\n",
    "\n"
   ]
  },
  {
   "cell_type": "markdown",
   "metadata": {},
   "source": [
    "# Algunas parametrizaciones de curvas donde definir las condiciones de frontera"
   ]
  },
  {
   "cell_type": "code",
   "execution_count": 133,
   "metadata": {},
   "outputs": [],
   "source": [
    "def curva_frontera_semicirc1(t):\n",
    "    t = t * np.pi\n",
    "    y = int(n/2. * (1.-.5*np.cos(t)))\n",
    "    x = int(n/2. * (1.+.5*np.sin(t)))\n",
    "    return (x,y)\n",
    "\n",
    "def curva_frontera_semicirc2(t):\n",
    "    t = t * np.pi\n",
    "    y = int(n/2. * (1.-.5*np.cos(t)))\n",
    "    x = int(n/2. * (1.-.5*np.sin(t)))\n",
    "    return (x,y)\n",
    "\n",
    "\n",
    "\n",
    "def curva_frontera_quart_circ1(t):\n",
    "    t = t * np.pi\n",
    "    return (int(0.25 * n * np.cos(t)), int(0.25 * n * np.sin(t)))\n",
    "\n",
    "def curva_frontera_quart_circ2(t):\n",
    "    t = t * np.pi\n",
    "    return (int(n-0.25 * n * np.cos(t)), int(n-0.25 * n * np.sin(t)))\n",
    "\n",
    "\n",
    "def curva_frontera_rect1(t):\n",
    "    t = t * np.pi\n",
    "    if t< .25* 3.1416:        \n",
    "        x = .25\n",
    "        y = .5 + .25*np.tan(t)\n",
    "    elif t> .75* 3.1416:\n",
    "        x = .75\n",
    "        y = .5 - .25*np.tan(t)\n",
    "    else:\n",
    "        x = .5 - .25/np.tan(t)\n",
    "        y = .75\n",
    "    return (int(n*x),int(n*y))\n",
    "\n",
    "\n",
    "def curva_frontera_rect2(t):\n",
    "    t = t * np.pi\n",
    "    if t< .25* 3.1416:        \n",
    "        x = .25\n",
    "        y = .5 - .25*np.tan(t)\n",
    "    elif t> .75* 3.1416:\n",
    "        x = .75\n",
    "        y = .5 + .25*np.tan(t)\n",
    "    else:\n",
    "        x = .5 - .25/np.tan(t)\n",
    "        y = .25\n",
    "    return (int(n*x),int(n*y))\n",
    "\n",
    "\n",
    "def curva_frontera_tri1(t):\n",
    "    x = 0.25+.5*t\n",
    "    y = .5 * (1- 1./np.sqrt(12.)) \n",
    "    return (int(n*x),int(n*y))\n",
    "\n",
    "def curva_frontera_tri2(t):\n",
    "    x = 0.25+.5*t\n",
    "    t = np.abs(.5-t)\n",
    "    y = .5 * (1- 1./np.sqrt(12.))  + np.sqrt(.75)*(.5-t)\n",
    "    return (int(n*x),int(n*y))\n"
   ]
  },
  {
   "cell_type": "markdown",
   "metadata": {},
   "source": [
    "# Parámetros"
   ]
  },
  {
   "cell_type": "code",
   "execution_count": 135,
   "metadata": {},
   "outputs": [],
   "source": [
    "\n",
    "lado=10 # tamaño físico del sistema (en cm, por ejemplo)\n",
    "n=50    # número de puntos  en cada dirección \n",
    "\n"
   ]
  },
  {
   "cell_type": "code",
   "execution_count": 139,
   "metadata": {},
   "outputs": [
    {
     "data": {
      "image/png": "[encoded data removed]",
      "text/plain": [
       "<Figure size 432x288 with 1 Axes>"
      ]
     },
     "metadata": {
      "needs_background": "light"
     },
     "output_type": "display_data"
    },
    {
     "data": {
      "image/png": "[encoded data removed]",
      "text/plain": [
       "<Figure size 432x288 with 1 Axes>"
      ]
     },
     "metadata": {
      "needs_background": "light"
     },
     "output_type": "display_data"
    },
    {
     "name": "stdout",
     "output_type": "stream",
     "text": [
      "0.0512718324071463\n"
     ]
    },
    {
     "data": {
      "image/png": "[encoded data removed]",
      "text/plain": [
       "<Figure size 432x288 with 1 Axes>"
      ]
     },
     "metadata": {
      "needs_background": "light"
     },
     "output_type": "display_data"
    },
    {
     "name": "stdout",
     "output_type": "stream",
     "text": [
      "0.0\n"
     ]
    },
    {
     "data": {
      "image/png": "[encoded data removed]",
      "text/plain": [
       "<Figure size 432x288 with 1 Axes>"
      ]
     },
     "metadata": {
      "needs_background": "light"
     },
     "output_type": "display_data"
    },
    {
     "name": "stdout",
     "output_type": "stream",
     "text": [
      "0.0\n"
     ]
    }
   ],
   "source": [
    "\n",
    "\n",
    "#Armamos una grilla de nxn llena de ceros\n",
    "\n",
    "dominio = np.zeros((n,n))\n",
    "curva_frontera1 = curva_frontera_tri1\n",
    "curva_frontera2 = curva_frontera_tri2\n",
    "\n",
    "ptsfrontera1 = [ curva_frontera1(t) for t in np.linspace(0.,1.,2 * n)]\n",
    "ptsfrontera2 = [ curva_frontera2(t) for t in np.linspace(0.,1.,2 * n)]\n",
    "valsfrontera1=[1. for p in ptsfrontera1]\n",
    "valsfrontera2=[-1. for p in ptsfrontera2]\n",
    "\n",
    "ptsfrontera = ptsfrontera1 + ptsfrontera2 \n",
    "valsfrontera = valsfrontera1 + valsfrontera2\n",
    "\n",
    "for p,v in zip(ptsfrontera,valsfrontera):\n",
    "    if 0<p[0]<n and 0<p[1]<n:\n",
    "        dominio[p[0],p[1]] = v\n",
    "    \n",
    "    \n",
    "X, Y = np.meshgrid(np.linspace(0,lado,n),np.linspace(0,lado,n))\n",
    "plt.contour(X, Y,dominio)\n",
    "\n",
    "\n",
    "def iterdom(dominio):\n",
    "    newdominio = dominio.copy()\n",
    "    for nx in range(1,n-1):\n",
    "        for ny in range(1,n-1):\n",
    "            newdominio[nx, ny] =  .25 * (dominio[nx + 1 ,ny] + \n",
    "                                      dominio[nx-1,ny] + \n",
    "                                      dominio[nx,ny+1] + \n",
    "                                      dominio[nx,ny-1])\n",
    "    for p in ptsfrontera:\n",
    "        if 0<p[0]<n and 0<p[1]<n:\n",
    "            newdominio[p[0], p[1]] =  dominio[p[0], p[1]]\n",
    "\n",
    "    err = (newdominio - dominio).flatten()\n",
    "    err = np.sqrt(err.dot(err))\n",
    "    return (newdominio,err)\n",
    "\n",
    "\n",
    "plt.contourf(X, Y, dominio)\n",
    "plt.show()\n",
    "\n",
    "\n",
    "for i in range(100):\n",
    "    dominio,err = iterdom(dominio)\n",
    "\n",
    "plt.contourf(X, Y, dominio)\n",
    "plt.show()\n",
    "print(err)\n",
    "\n",
    "for i in range(5000):\n",
    "    dominio,err = iterdom(dominio)\n",
    "\n",
    "plt.contourf(X, Y, dominio)\n",
    "plt.show()\n",
    "print(err)\n",
    "\n",
    "for i in range(200):\n",
    "    dominio,err = iterdom(dominio)\n",
    "\n",
    "plt.contourf(X, Y, dominio)\n",
    "plt.savefig(\"equipot.svg\")\n",
    "plt.show()\n",
    "print(err)\n"
   ]
  },
  {
   "cell_type": "markdown",
   "metadata": {},
   "source": [
    "Debido a que el promedio siempre se toma a primeros vecinos, partir de una solución con un potencial nulo salvo en los puntos que definen la condición de frontera, implica que la convergencia llevará una cantidad de pasos proporcional al tamaño de la grilla. Podemos mejorar esta convergencia si partimos de una mejor aproximación de la solución. \n",
    "\n",
    "Problema: Construir un algoritmo que resuelva el problema para un n=n0 pequeño (ej, n0=10), y a partir de esa solución, construya la grilla inicial para resolver el problema con un n1=2*n"
   ]
  }
 ],
 "metadata": {
  "kernelspec": {
   "display_name": "Python 3",
   "language": "python",
   "name": "python3"
  },
  "language_info": {
   "codemirror_mode": {
    "name": "ipython",
    "version": 3
   },
   "file_extension": ".py",
   "mimetype": "text/x-python",
   "name": "python",
   "nbconvert_exporter": "python",
   "pygments_lexer": "ipython3",
   "version": "3.6.7"
  }
 },
 "nbformat": 4,
 "nbformat_minor": 2
}
